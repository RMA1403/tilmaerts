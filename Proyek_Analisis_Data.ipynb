{
 "cells": [
  {
   "cell_type": "markdown",
   "metadata": {
    "id": "H9wADwK78DCz"
   },
   "source": [
    "# Proyek Analisis Data: Air Quality Index (PM2.5)\n",
    "- **Nama:** Rava Maulana\n",
    "- **Email:** ravamaulana14@gmail.com\n",
    "- **ID Dicoding:** rma1403"
   ]
  },
  {
   "cell_type": "markdown",
   "metadata": {
    "id": "eE0raob58DC0"
   },
   "source": [
    "## Menentukan Pertanyaan Bisnis"
   ]
  },
  {
   "cell_type": "markdown",
   "metadata": {
    "id": "GmQeQ5YF8DC0"
   },
   "source": [
    "Pertanyaan bisnis yang dibuat mengacu pada framework SMART untuk menghasilkan pertanyaan yang baik dan efektif. Pertanyaan\n",
    "yang efektif akan menghasilkan insight menarik dari dataset yang dianalisis. Berikut merupakan dua pertanyaan yang diajukan\n",
    "untuk membantu menganalisis data.\n",
    "\n",
    "1. **Apakah terdapat pola harian tingkat PM2.5 pada setiap stasiun?**  \n",
    "  Pertanyaan ini bertujuan untuk mengeksplorasi pola atau siklus yang mungkin muncul terhadap tingkat PM2.5. Dengan diketahuinya\n",
    "  pola harian pada tingkat PM2.5 untuk setiap stasiun, perencanaan untuk meningkatkan kualitas udara dapat difokuskan pada jam-jam\n",
    "  dengan tingkat PM2.5 tertinggi. Jika ditemukan pola yang lebih general antar-statsiun pengukuran, upaya peningkatan kualitas\n",
    "  udara dapat dilakukan dengan skala yang lebih masif.\n",
    "\n",
    "2. **Apa polutan dengan tingkat variasi tertinggi pada stasiun dengan tingkat PM2.5 tertinggi?**  \n",
    "  Pertanyaan ini bertujuan untuk menemukan polutan dengan variasi tertinggi pada stasiun dengan tingkat PM2.5 tertinggi. Polutan dengan\n",
    "  tingkat variasi tertinggi menunjukkan bahwa polutan tersebut sering berfluktuasi dari waktu ke waktu. Polutan yang sering\n",
    "  berfluktuasi memiliki resiko yang tinggi karena perubahannya tidak dapat diprediksi. Stasiun dengan tingkat PM2.5 tertinggi\n",
    "  digunakan karena tingginya tingkat PM2.5 menunjukkan buruknya kualitas udara pada stasiun tersebut. Polutan yang paling tidak\n",
    "  dapat diprediksi pada stasiun dengan kualitas udara terburuk harus dijadikan fokus utama dalam upaya peningkatan kualitas udara\n",
    "  untuk menurunkan tingkat polutan tersebut."
   ]
  },
  {
   "cell_type": "markdown",
   "metadata": {
    "id": "H-z4QGlO8DC1"
   },
   "source": [
    "## Import Semua Packages/Library yang Digunakan"
   ]
  },
  {
   "cell_type": "code",
   "execution_count": 1,
   "metadata": {
    "id": "FVYwaObI8DC1"
   },
   "outputs": [],
   "source": [
    "import os\n",
    "\n",
    "import pandas as pd\n",
    "import matplotlib.pyplot as plt\n",
    "import seaborn as sns\n",
    "import numpy as np"
   ]
  },
  {
   "cell_type": "code",
   "execution_count": 2,
   "metadata": {},
   "outputs": [],
   "source": [
    "DATA_FOLDER = \"PRSA_Data_20130301-20170228\""
   ]
  },
  {
   "cell_type": "markdown",
   "metadata": {
    "id": "h_Sh51Xy8DC1"
   },
   "source": [
    "## Data Wrangling"
   ]
  },
  {
   "cell_type": "markdown",
   "metadata": {
    "id": "sXU2GBYu8DC1"
   },
   "source": [
    "### Gathering Data"
   ]
  },
  {
   "cell_type": "markdown",
   "metadata": {},
   "source": [
    "Proses pengumpulan data dilakukan dengan menggabungkan beberapa file csv menjadi satu DataFrame. Secara keseluruhan, terdapat 12\n",
    "file csv yang berisi hasil pengukuran kadar zat di udara pada setiap stasiun pengukuran."
   ]
  },
  {
   "cell_type": "code",
   "execution_count": 3,
   "metadata": {
    "id": "zjCBk1BI8DC1"
   },
   "outputs": [],
   "source": [
    "files = os.listdir(DATA_FOLDER)\n",
    "dataset = pd.read_csv(os.path.join(DATA_FOLDER, files[0]))\n",
    "for file in files[1:]:\n",
    "    temp_df = pd.read_csv(os.path.join(DATA_FOLDER, file))\n",
    "    dataset = pd.concat([dataset, temp_df], ignore_index=True)"
   ]
  },
  {
   "cell_type": "markdown",
   "metadata": {},
   "source": [
    "Dilakukan inspeksi 5 data pertama pada dataset untuk melihat kolom-kolom yang ada serta tipe data yang ada pada setiap kolom."
   ]
  },
  {
   "cell_type": "code",
   "execution_count": 4,
   "metadata": {},
   "outputs": [
    {
     "data": {
      "text/html": [
       "<div>\n",
       "<style scoped>\n",
       "    .dataframe tbody tr th:only-of-type {\n",
       "        vertical-align: middle;\n",
       "    }\n",
       "\n",
       "    .dataframe tbody tr th {\n",
       "        vertical-align: top;\n",
       "    }\n",
       "\n",
       "    .dataframe thead th {\n",
       "        text-align: right;\n",
       "    }\n",
       "</style>\n",
       "<table border=\"1\" class=\"dataframe\">\n",
       "  <thead>\n",
       "    <tr style=\"text-align: right;\">\n",
       "      <th></th>\n",
       "      <th>No</th>\n",
       "      <th>year</th>\n",
       "      <th>month</th>\n",
       "      <th>day</th>\n",
       "      <th>hour</th>\n",
       "      <th>PM2.5</th>\n",
       "      <th>PM10</th>\n",
       "      <th>SO2</th>\n",
       "      <th>NO2</th>\n",
       "      <th>CO</th>\n",
       "      <th>O3</th>\n",
       "      <th>TEMP</th>\n",
       "      <th>PRES</th>\n",
       "      <th>DEWP</th>\n",
       "      <th>RAIN</th>\n",
       "      <th>wd</th>\n",
       "      <th>WSPM</th>\n",
       "      <th>station</th>\n",
       "    </tr>\n",
       "  </thead>\n",
       "  <tbody>\n",
       "    <tr>\n",
       "      <th>0</th>\n",
       "      <td>1</td>\n",
       "      <td>2013</td>\n",
       "      <td>3</td>\n",
       "      <td>1</td>\n",
       "      <td>0</td>\n",
       "      <td>6.0</td>\n",
       "      <td>18.0</td>\n",
       "      <td>5.0</td>\n",
       "      <td>NaN</td>\n",
       "      <td>800.0</td>\n",
       "      <td>88.0</td>\n",
       "      <td>0.1</td>\n",
       "      <td>1021.1</td>\n",
       "      <td>-18.6</td>\n",
       "      <td>0.0</td>\n",
       "      <td>NW</td>\n",
       "      <td>4.4</td>\n",
       "      <td>Gucheng</td>\n",
       "    </tr>\n",
       "    <tr>\n",
       "      <th>1</th>\n",
       "      <td>2</td>\n",
       "      <td>2013</td>\n",
       "      <td>3</td>\n",
       "      <td>1</td>\n",
       "      <td>1</td>\n",
       "      <td>6.0</td>\n",
       "      <td>15.0</td>\n",
       "      <td>5.0</td>\n",
       "      <td>NaN</td>\n",
       "      <td>800.0</td>\n",
       "      <td>88.0</td>\n",
       "      <td>-0.3</td>\n",
       "      <td>1021.5</td>\n",
       "      <td>-19.0</td>\n",
       "      <td>0.0</td>\n",
       "      <td>NW</td>\n",
       "      <td>4.0</td>\n",
       "      <td>Gucheng</td>\n",
       "    </tr>\n",
       "    <tr>\n",
       "      <th>2</th>\n",
       "      <td>3</td>\n",
       "      <td>2013</td>\n",
       "      <td>3</td>\n",
       "      <td>1</td>\n",
       "      <td>2</td>\n",
       "      <td>5.0</td>\n",
       "      <td>18.0</td>\n",
       "      <td>NaN</td>\n",
       "      <td>NaN</td>\n",
       "      <td>700.0</td>\n",
       "      <td>52.0</td>\n",
       "      <td>-0.7</td>\n",
       "      <td>1021.5</td>\n",
       "      <td>-19.8</td>\n",
       "      <td>0.0</td>\n",
       "      <td>WNW</td>\n",
       "      <td>4.6</td>\n",
       "      <td>Gucheng</td>\n",
       "    </tr>\n",
       "    <tr>\n",
       "      <th>3</th>\n",
       "      <td>4</td>\n",
       "      <td>2013</td>\n",
       "      <td>3</td>\n",
       "      <td>1</td>\n",
       "      <td>3</td>\n",
       "      <td>6.0</td>\n",
       "      <td>20.0</td>\n",
       "      <td>6.0</td>\n",
       "      <td>NaN</td>\n",
       "      <td>NaN</td>\n",
       "      <td>NaN</td>\n",
       "      <td>-1.0</td>\n",
       "      <td>1022.7</td>\n",
       "      <td>-21.2</td>\n",
       "      <td>0.0</td>\n",
       "      <td>W</td>\n",
       "      <td>2.8</td>\n",
       "      <td>Gucheng</td>\n",
       "    </tr>\n",
       "    <tr>\n",
       "      <th>4</th>\n",
       "      <td>5</td>\n",
       "      <td>2013</td>\n",
       "      <td>3</td>\n",
       "      <td>1</td>\n",
       "      <td>4</td>\n",
       "      <td>5.0</td>\n",
       "      <td>17.0</td>\n",
       "      <td>5.0</td>\n",
       "      <td>NaN</td>\n",
       "      <td>600.0</td>\n",
       "      <td>73.0</td>\n",
       "      <td>-1.3</td>\n",
       "      <td>1023.0</td>\n",
       "      <td>-21.4</td>\n",
       "      <td>0.0</td>\n",
       "      <td>WNW</td>\n",
       "      <td>3.6</td>\n",
       "      <td>Gucheng</td>\n",
       "    </tr>\n",
       "  </tbody>\n",
       "</table>\n",
       "</div>"
      ],
      "text/plain": [
       "   No  year  month  day  hour  PM2.5  PM10  SO2  NO2     CO    O3  TEMP  \\\n",
       "0   1  2013      3    1     0    6.0  18.0  5.0  NaN  800.0  88.0   0.1   \n",
       "1   2  2013      3    1     1    6.0  15.0  5.0  NaN  800.0  88.0  -0.3   \n",
       "2   3  2013      3    1     2    5.0  18.0  NaN  NaN  700.0  52.0  -0.7   \n",
       "3   4  2013      3    1     3    6.0  20.0  6.0  NaN    NaN   NaN  -1.0   \n",
       "4   5  2013      3    1     4    5.0  17.0  5.0  NaN  600.0  73.0  -1.3   \n",
       "\n",
       "     PRES  DEWP  RAIN   wd  WSPM  station  \n",
       "0  1021.1 -18.6   0.0   NW   4.4  Gucheng  \n",
       "1  1021.5 -19.0   0.0   NW   4.0  Gucheng  \n",
       "2  1021.5 -19.8   0.0  WNW   4.6  Gucheng  \n",
       "3  1022.7 -21.2   0.0    W   2.8  Gucheng  \n",
       "4  1023.0 -21.4   0.0  WNW   3.6  Gucheng  "
      ]
     },
     "execution_count": 4,
     "metadata": {},
     "output_type": "execute_result"
    }
   ],
   "source": [
    "dataset.head()"
   ]
  },
  {
   "cell_type": "markdown",
   "metadata": {},
   "source": [
    "Dilakukan inspeksi terhadap dimensi dataset untuk mengetahui jumlah kolom serta jumlah instance data pada dataset."
   ]
  },
  {
   "cell_type": "code",
   "execution_count": 5,
   "metadata": {},
   "outputs": [
    {
     "data": {
      "text/plain": [
       "(420768, 18)"
      ]
     },
     "execution_count": 5,
     "metadata": {},
     "output_type": "execute_result"
    }
   ],
   "source": [
    "dataset.shape"
   ]
  },
  {
   "cell_type": "markdown",
   "metadata": {},
   "source": [
    "Dilakukan penambahan kolom \"datetime\" untuk menggabungkan seluruh komponen waktu pada dataset. Hal ini dilakukan untuk\n",
    "mempermudah pemrosesan data yang merupakan data timeseries."
   ]
  },
  {
   "cell_type": "code",
   "execution_count": 6,
   "metadata": {},
   "outputs": [],
   "source": [
    "dataset[\"datetime\"] = pd.to_datetime(dataset[[\"year\", \"month\", \"day\", \"hour\"]])\n",
    "dataset.drop([\"year\", \"month\", \"day\", \"hour\"], axis=1, inplace=True)"
   ]
  },
  {
   "cell_type": "code",
   "execution_count": 7,
   "metadata": {},
   "outputs": [
    {
     "data": {
      "text/html": [
       "<div>\n",
       "<style scoped>\n",
       "    .dataframe tbody tr th:only-of-type {\n",
       "        vertical-align: middle;\n",
       "    }\n",
       "\n",
       "    .dataframe tbody tr th {\n",
       "        vertical-align: top;\n",
       "    }\n",
       "\n",
       "    .dataframe thead th {\n",
       "        text-align: right;\n",
       "    }\n",
       "</style>\n",
       "<table border=\"1\" class=\"dataframe\">\n",
       "  <thead>\n",
       "    <tr style=\"text-align: right;\">\n",
       "      <th></th>\n",
       "      <th>No</th>\n",
       "      <th>PM2.5</th>\n",
       "      <th>PM10</th>\n",
       "      <th>SO2</th>\n",
       "      <th>NO2</th>\n",
       "      <th>CO</th>\n",
       "      <th>O3</th>\n",
       "      <th>TEMP</th>\n",
       "      <th>PRES</th>\n",
       "      <th>DEWP</th>\n",
       "      <th>RAIN</th>\n",
       "      <th>wd</th>\n",
       "      <th>WSPM</th>\n",
       "      <th>station</th>\n",
       "      <th>datetime</th>\n",
       "    </tr>\n",
       "  </thead>\n",
       "  <tbody>\n",
       "    <tr>\n",
       "      <th>0</th>\n",
       "      <td>1</td>\n",
       "      <td>6.0</td>\n",
       "      <td>18.0</td>\n",
       "      <td>5.0</td>\n",
       "      <td>NaN</td>\n",
       "      <td>800.0</td>\n",
       "      <td>88.0</td>\n",
       "      <td>0.1</td>\n",
       "      <td>1021.1</td>\n",
       "      <td>-18.6</td>\n",
       "      <td>0.0</td>\n",
       "      <td>NW</td>\n",
       "      <td>4.4</td>\n",
       "      <td>Gucheng</td>\n",
       "      <td>2013-03-01 00:00:00</td>\n",
       "    </tr>\n",
       "    <tr>\n",
       "      <th>1</th>\n",
       "      <td>2</td>\n",
       "      <td>6.0</td>\n",
       "      <td>15.0</td>\n",
       "      <td>5.0</td>\n",
       "      <td>NaN</td>\n",
       "      <td>800.0</td>\n",
       "      <td>88.0</td>\n",
       "      <td>-0.3</td>\n",
       "      <td>1021.5</td>\n",
       "      <td>-19.0</td>\n",
       "      <td>0.0</td>\n",
       "      <td>NW</td>\n",
       "      <td>4.0</td>\n",
       "      <td>Gucheng</td>\n",
       "      <td>2013-03-01 01:00:00</td>\n",
       "    </tr>\n",
       "    <tr>\n",
       "      <th>2</th>\n",
       "      <td>3</td>\n",
       "      <td>5.0</td>\n",
       "      <td>18.0</td>\n",
       "      <td>NaN</td>\n",
       "      <td>NaN</td>\n",
       "      <td>700.0</td>\n",
       "      <td>52.0</td>\n",
       "      <td>-0.7</td>\n",
       "      <td>1021.5</td>\n",
       "      <td>-19.8</td>\n",
       "      <td>0.0</td>\n",
       "      <td>WNW</td>\n",
       "      <td>4.6</td>\n",
       "      <td>Gucheng</td>\n",
       "      <td>2013-03-01 02:00:00</td>\n",
       "    </tr>\n",
       "    <tr>\n",
       "      <th>3</th>\n",
       "      <td>4</td>\n",
       "      <td>6.0</td>\n",
       "      <td>20.0</td>\n",
       "      <td>6.0</td>\n",
       "      <td>NaN</td>\n",
       "      <td>NaN</td>\n",
       "      <td>NaN</td>\n",
       "      <td>-1.0</td>\n",
       "      <td>1022.7</td>\n",
       "      <td>-21.2</td>\n",
       "      <td>0.0</td>\n",
       "      <td>W</td>\n",
       "      <td>2.8</td>\n",
       "      <td>Gucheng</td>\n",
       "      <td>2013-03-01 03:00:00</td>\n",
       "    </tr>\n",
       "    <tr>\n",
       "      <th>4</th>\n",
       "      <td>5</td>\n",
       "      <td>5.0</td>\n",
       "      <td>17.0</td>\n",
       "      <td>5.0</td>\n",
       "      <td>NaN</td>\n",
       "      <td>600.0</td>\n",
       "      <td>73.0</td>\n",
       "      <td>-1.3</td>\n",
       "      <td>1023.0</td>\n",
       "      <td>-21.4</td>\n",
       "      <td>0.0</td>\n",
       "      <td>WNW</td>\n",
       "      <td>3.6</td>\n",
       "      <td>Gucheng</td>\n",
       "      <td>2013-03-01 04:00:00</td>\n",
       "    </tr>\n",
       "  </tbody>\n",
       "</table>\n",
       "</div>"
      ],
      "text/plain": [
       "   No  PM2.5  PM10  SO2  NO2     CO    O3  TEMP    PRES  DEWP  RAIN   wd  \\\n",
       "0   1    6.0  18.0  5.0  NaN  800.0  88.0   0.1  1021.1 -18.6   0.0   NW   \n",
       "1   2    6.0  15.0  5.0  NaN  800.0  88.0  -0.3  1021.5 -19.0   0.0   NW   \n",
       "2   3    5.0  18.0  NaN  NaN  700.0  52.0  -0.7  1021.5 -19.8   0.0  WNW   \n",
       "3   4    6.0  20.0  6.0  NaN    NaN   NaN  -1.0  1022.7 -21.2   0.0    W   \n",
       "4   5    5.0  17.0  5.0  NaN  600.0  73.0  -1.3  1023.0 -21.4   0.0  WNW   \n",
       "\n",
       "   WSPM  station            datetime  \n",
       "0   4.4  Gucheng 2013-03-01 00:00:00  \n",
       "1   4.0  Gucheng 2013-03-01 01:00:00  \n",
       "2   4.6  Gucheng 2013-03-01 02:00:00  \n",
       "3   2.8  Gucheng 2013-03-01 03:00:00  \n",
       "4   3.6  Gucheng 2013-03-01 04:00:00  "
      ]
     },
     "execution_count": 7,
     "metadata": {},
     "output_type": "execute_result"
    }
   ],
   "source": [
    "dataset.head()"
   ]
  },
  {
   "cell_type": "markdown",
   "metadata": {
    "id": "FHSiqaZp8DC1"
   },
   "source": [
    "### Assessing Data"
   ]
  },
  {
   "cell_type": "markdown",
   "metadata": {},
   "source": [
    "Dilakukan inspeksi terhadap nilai null untuk setiap kolom pada dataset. Ditemukan bahwa kolom yang memiliki data null terbanyak adalah\n",
    "\"CO\" dengan data null sebanyak 20.701 instance. Berdasarkan analisis ini juga ditemukan bahwa sebagian besar (15 dari 18) kolom memiliki\n",
    "data null sehingga perlu dilakukan cleaning nilai null pada dataset. "
   ]
  },
  {
   "cell_type": "code",
   "execution_count": 8,
   "metadata": {
    "id": "ax-3tEjc9Cj1"
   },
   "outputs": [
    {
     "data": {
      "text/plain": [
       "No              0\n",
       "PM2.5        8739\n",
       "PM10         6449\n",
       "SO2          9021\n",
       "NO2         12116\n",
       "CO          20701\n",
       "O3          13277\n",
       "TEMP          398\n",
       "PRES          393\n",
       "DEWP          403\n",
       "RAIN          390\n",
       "wd           1822\n",
       "WSPM          318\n",
       "station         0\n",
       "datetime        0\n",
       "dtype: int64"
      ]
     },
     "execution_count": 8,
     "metadata": {},
     "output_type": "execute_result"
    }
   ],
   "source": [
    "dataset.isnull().sum()"
   ]
  },
  {
   "cell_type": "markdown",
   "metadata": {},
   "source": [
    "Dilakukan inspeksi terhadap duplikasi data pada dataset. Berdasarkan inspeksi, tidak ditemukan data duplikat pada dataset\n",
    "yang berarti tidak diperlukannya cleaning terhadap data duplikat."
   ]
  },
  {
   "cell_type": "code",
   "execution_count": 9,
   "metadata": {},
   "outputs": [
    {
     "data": {
      "text/plain": [
       "0"
      ]
     },
     "execution_count": 9,
     "metadata": {},
     "output_type": "execute_result"
    }
   ],
   "source": [
    "dataset.duplicated().sum()"
   ]
  },
  {
   "cell_type": "markdown",
   "metadata": {},
   "source": [
    "Dilakukan inspeksi terhadap jumlah outlier untuk setiap kolom pada dataset. Ditemukan bahwa 8 dari 12 kolom memiliki data\n",
    "outlier. Kolom dengan data outlier terbanyak adalah \"SO2\" dengan jumlah outlier sebesar 8.64% atau sebanyak 35.566 data dari\n",
    "total 411.747 data."
   ]
  },
  {
   "cell_type": "code",
   "execution_count": 10,
   "metadata": {},
   "outputs": [
    {
     "name": "stdout",
     "output_type": "stream",
     "text": [
      "No: 0 outliers of 420768 samples (0.00%)\n",
      "PM2.5: 19142 outliers of 412029 samples (4.65%)\n",
      "PM10: 14658 outliers of 414319 samples (3.54%)\n",
      "SO2: 35566 outliers of 411747 samples (8.64%)\n",
      "NO2: 7021 outliers of 408652 samples (1.72%)\n",
      "CO: 28054 outliers of 400067 samples (7.01%)\n",
      "O3: 16599 outliers of 407491 samples (4.07%)\n",
      "TEMP: 0 outliers of 420370 samples (0.00%)\n",
      "PRES: 0 outliers of 420375 samples (0.00%)\n",
      "DEWP: 0 outliers of 420365 samples (0.00%)\n",
      "RAIN: 16520 outliers of 420378 samples (3.93%)\n",
      "WSPM: 23079 outliers of 420450 samples (5.49%)\n"
     ]
    }
   ],
   "source": [
    "for column in dataset.select_dtypes(include=np.number):\n",
    "    sample = dataset[column].dropna()\n",
    "    \n",
    "    q25, q75 = np.percentile(sample, 25), np.percentile(sample,75)\n",
    "    iqr = q75 - q25\n",
    "    cut_off = iqr * 1.5\n",
    "    minimum, maximum = q25 - cut_off, q75 + cut_off\n",
    "\n",
    "    outliers = [x for x in sample if x > maximum or x < minimum]\n",
    "    print(f\"{column}: {len(outliers)} outliers of {len(sample)} samples ({(len(outliers)/len(sample)*100):.2f}%)\")"
   ]
  },
  {
   "cell_type": "markdown",
   "metadata": {
    "id": "EhN5R4hr8DC1"
   },
   "source": [
    "### Cleaning Data"
   ]
  },
  {
   "cell_type": "markdown",
   "metadata": {},
   "source": [
    "Berikutnya, dilakukan cleaning untuk nilai null pada dataset. Metode cleaning yang dilakukan dibedakan berdasarkan tipe data dari\n",
    "kolom. Untuk kolom dengan tipe data numerik dilakukan cleaning nilai null dengan menggunakan nilai median. Nilai median lebih dipilih\n",
    "daripada nilai mean karena sebagian besar kolom memiliki jumlah outlier yang cukup banyak. Sementara itu, dilakukan cleaning nilai\n",
    "null menggunakan modus untuk kolom dengan tipe data kategorikal/non-numerik."
   ]
  },
  {
   "cell_type": "code",
   "execution_count": 11,
   "metadata": {
    "id": "jVnYpprE9Evz"
   },
   "outputs": [
    {
     "data": {
      "text/plain": [
       "No          0\n",
       "PM2.5       0\n",
       "PM10        0\n",
       "SO2         0\n",
       "NO2         0\n",
       "CO          0\n",
       "O3          0\n",
       "TEMP        0\n",
       "PRES        0\n",
       "DEWP        0\n",
       "RAIN        0\n",
       "wd          0\n",
       "WSPM        0\n",
       "station     0\n",
       "datetime    0\n",
       "dtype: int64"
      ]
     },
     "execution_count": 11,
     "metadata": {},
     "output_type": "execute_result"
    }
   ],
   "source": [
    "for column in dataset.select_dtypes(include=np.number):\n",
    "    dataset[column] = dataset[column].fillna(value=dataset[column].median())\n",
    "\n",
    "for column in dataset.select_dtypes(exclude=np.number):\n",
    "    dataset[column] = dataset[column].fillna(value=dataset[column].mode()[0])\n",
    "\n",
    "dataset.isnull().sum()"
   ]
  },
  {
   "cell_type": "markdown",
   "metadata": {
    "id": "gp-Y6wU38DC1"
   },
   "source": [
    "## Exploratory Data Analysis (EDA)"
   ]
  },
  {
   "cell_type": "code",
   "execution_count": 12,
   "metadata": {
    "id": "e9CQCZjk8DC2"
   },
   "outputs": [
    {
     "data": {
      "text/html": [
       "<div>\n",
       "<style scoped>\n",
       "    .dataframe tbody tr th:only-of-type {\n",
       "        vertical-align: middle;\n",
       "    }\n",
       "\n",
       "    .dataframe tbody tr th {\n",
       "        vertical-align: top;\n",
       "    }\n",
       "\n",
       "    .dataframe thead th {\n",
       "        text-align: right;\n",
       "    }\n",
       "</style>\n",
       "<table border=\"1\" class=\"dataframe\">\n",
       "  <thead>\n",
       "    <tr style=\"text-align: right;\">\n",
       "      <th></th>\n",
       "      <th>No</th>\n",
       "      <th>PM2.5</th>\n",
       "      <th>PM10</th>\n",
       "      <th>SO2</th>\n",
       "      <th>NO2</th>\n",
       "      <th>CO</th>\n",
       "      <th>O3</th>\n",
       "      <th>TEMP</th>\n",
       "      <th>PRES</th>\n",
       "      <th>DEWP</th>\n",
       "      <th>RAIN</th>\n",
       "      <th>wd</th>\n",
       "      <th>WSPM</th>\n",
       "      <th>station</th>\n",
       "      <th>datetime</th>\n",
       "    </tr>\n",
       "  </thead>\n",
       "  <tbody>\n",
       "    <tr>\n",
       "      <th>count</th>\n",
       "      <td>420768.000000</td>\n",
       "      <td>420768.000000</td>\n",
       "      <td>420768.000000</td>\n",
       "      <td>420768.000000</td>\n",
       "      <td>420768.000000</td>\n",
       "      <td>420768.000000</td>\n",
       "      <td>420768.000000</td>\n",
       "      <td>420768.000000</td>\n",
       "      <td>420768.000000</td>\n",
       "      <td>420768.000000</td>\n",
       "      <td>420768.000000</td>\n",
       "      <td>420768</td>\n",
       "      <td>420768.000000</td>\n",
       "      <td>420768</td>\n",
       "      <td>420768</td>\n",
       "    </tr>\n",
       "    <tr>\n",
       "      <th>unique</th>\n",
       "      <td>NaN</td>\n",
       "      <td>NaN</td>\n",
       "      <td>NaN</td>\n",
       "      <td>NaN</td>\n",
       "      <td>NaN</td>\n",
       "      <td>NaN</td>\n",
       "      <td>NaN</td>\n",
       "      <td>NaN</td>\n",
       "      <td>NaN</td>\n",
       "      <td>NaN</td>\n",
       "      <td>NaN</td>\n",
       "      <td>16</td>\n",
       "      <td>NaN</td>\n",
       "      <td>12</td>\n",
       "      <td>NaN</td>\n",
       "    </tr>\n",
       "    <tr>\n",
       "      <th>top</th>\n",
       "      <td>NaN</td>\n",
       "      <td>NaN</td>\n",
       "      <td>NaN</td>\n",
       "      <td>NaN</td>\n",
       "      <td>NaN</td>\n",
       "      <td>NaN</td>\n",
       "      <td>NaN</td>\n",
       "      <td>NaN</td>\n",
       "      <td>NaN</td>\n",
       "      <td>NaN</td>\n",
       "      <td>NaN</td>\n",
       "      <td>NE</td>\n",
       "      <td>NaN</td>\n",
       "      <td>Gucheng</td>\n",
       "      <td>NaN</td>\n",
       "    </tr>\n",
       "    <tr>\n",
       "      <th>freq</th>\n",
       "      <td>NaN</td>\n",
       "      <td>NaN</td>\n",
       "      <td>NaN</td>\n",
       "      <td>NaN</td>\n",
       "      <td>NaN</td>\n",
       "      <td>NaN</td>\n",
       "      <td>NaN</td>\n",
       "      <td>NaN</td>\n",
       "      <td>NaN</td>\n",
       "      <td>NaN</td>\n",
       "      <td>NaN</td>\n",
       "      <td>45157</td>\n",
       "      <td>NaN</td>\n",
       "      <td>35064</td>\n",
       "      <td>NaN</td>\n",
       "    </tr>\n",
       "    <tr>\n",
       "      <th>mean</th>\n",
       "      <td>17532.500000</td>\n",
       "      <td>79.278489</td>\n",
       "      <td>104.256193</td>\n",
       "      <td>15.641507</td>\n",
       "      <td>50.418633</td>\n",
       "      <td>1214.493362</td>\n",
       "      <td>56.981874</td>\n",
       "      <td>13.539885</td>\n",
       "      <td>1010.746658</td>\n",
       "      <td>2.491405</td>\n",
       "      <td>0.064416</td>\n",
       "      <td>NaN</td>\n",
       "      <td>1.729461</td>\n",
       "      <td>NaN</td>\n",
       "      <td>2015-03-01 11:30:00.000001024</td>\n",
       "    </tr>\n",
       "    <tr>\n",
       "      <th>min</th>\n",
       "      <td>1.000000</td>\n",
       "      <td>2.000000</td>\n",
       "      <td>2.000000</td>\n",
       "      <td>0.285600</td>\n",
       "      <td>1.026500</td>\n",
       "      <td>100.000000</td>\n",
       "      <td>0.214200</td>\n",
       "      <td>-19.900000</td>\n",
       "      <td>982.400000</td>\n",
       "      <td>-43.400000</td>\n",
       "      <td>0.000000</td>\n",
       "      <td>NaN</td>\n",
       "      <td>0.000000</td>\n",
       "      <td>NaN</td>\n",
       "      <td>2013-03-01 00:00:00</td>\n",
       "    </tr>\n",
       "    <tr>\n",
       "      <th>25%</th>\n",
       "      <td>8766.750000</td>\n",
       "      <td>21.000000</td>\n",
       "      <td>36.000000</td>\n",
       "      <td>3.000000</td>\n",
       "      <td>24.000000</td>\n",
       "      <td>500.000000</td>\n",
       "      <td>12.000000</td>\n",
       "      <td>3.100000</td>\n",
       "      <td>1002.300000</td>\n",
       "      <td>-8.900000</td>\n",
       "      <td>0.000000</td>\n",
       "      <td>NaN</td>\n",
       "      <td>0.900000</td>\n",
       "      <td>NaN</td>\n",
       "      <td>2014-03-01 05:45:00</td>\n",
       "    </tr>\n",
       "    <tr>\n",
       "      <th>50%</th>\n",
       "      <td>17532.500000</td>\n",
       "      <td>55.000000</td>\n",
       "      <td>82.000000</td>\n",
       "      <td>7.000000</td>\n",
       "      <td>43.000000</td>\n",
       "      <td>900.000000</td>\n",
       "      <td>45.000000</td>\n",
       "      <td>14.500000</td>\n",
       "      <td>1010.400000</td>\n",
       "      <td>3.100000</td>\n",
       "      <td>0.000000</td>\n",
       "      <td>NaN</td>\n",
       "      <td>1.400000</td>\n",
       "      <td>NaN</td>\n",
       "      <td>2015-03-01 11:30:00</td>\n",
       "    </tr>\n",
       "    <tr>\n",
       "      <th>75%</th>\n",
       "      <td>26298.250000</td>\n",
       "      <td>109.000000</td>\n",
       "      <td>144.000000</td>\n",
       "      <td>19.000000</td>\n",
       "      <td>70.000000</td>\n",
       "      <td>1500.000000</td>\n",
       "      <td>80.000000</td>\n",
       "      <td>23.200000</td>\n",
       "      <td>1019.000000</td>\n",
       "      <td>15.100000</td>\n",
       "      <td>0.000000</td>\n",
       "      <td>NaN</td>\n",
       "      <td>2.200000</td>\n",
       "      <td>NaN</td>\n",
       "      <td>2016-02-29 17:15:00</td>\n",
       "    </tr>\n",
       "    <tr>\n",
       "      <th>max</th>\n",
       "      <td>35064.000000</td>\n",
       "      <td>999.000000</td>\n",
       "      <td>999.000000</td>\n",
       "      <td>500.000000</td>\n",
       "      <td>290.000000</td>\n",
       "      <td>10000.000000</td>\n",
       "      <td>1071.000000</td>\n",
       "      <td>41.600000</td>\n",
       "      <td>1042.800000</td>\n",
       "      <td>29.100000</td>\n",
       "      <td>72.500000</td>\n",
       "      <td>NaN</td>\n",
       "      <td>13.200000</td>\n",
       "      <td>NaN</td>\n",
       "      <td>2017-02-28 23:00:00</td>\n",
       "    </tr>\n",
       "    <tr>\n",
       "      <th>std</th>\n",
       "      <td>10122.116943</td>\n",
       "      <td>80.056799</td>\n",
       "      <td>91.108745</td>\n",
       "      <td>21.455419</td>\n",
       "      <td>34.642023</td>\n",
       "      <td>1133.542988</td>\n",
       "      <td>55.802413</td>\n",
       "      <td>11.430768</td>\n",
       "      <td>10.469168</td>\n",
       "      <td>13.787252</td>\n",
       "      <td>0.820626</td>\n",
       "      <td>NaN</td>\n",
       "      <td>1.245947</td>\n",
       "      <td>NaN</td>\n",
       "      <td>NaN</td>\n",
       "    </tr>\n",
       "  </tbody>\n",
       "</table>\n",
       "</div>"
      ],
      "text/plain": [
       "                   No          PM2.5           PM10            SO2  \\\n",
       "count   420768.000000  420768.000000  420768.000000  420768.000000   \n",
       "unique            NaN            NaN            NaN            NaN   \n",
       "top               NaN            NaN            NaN            NaN   \n",
       "freq              NaN            NaN            NaN            NaN   \n",
       "mean     17532.500000      79.278489     104.256193      15.641507   \n",
       "min          1.000000       2.000000       2.000000       0.285600   \n",
       "25%       8766.750000      21.000000      36.000000       3.000000   \n",
       "50%      17532.500000      55.000000      82.000000       7.000000   \n",
       "75%      26298.250000     109.000000     144.000000      19.000000   \n",
       "max      35064.000000     999.000000     999.000000     500.000000   \n",
       "std      10122.116943      80.056799      91.108745      21.455419   \n",
       "\n",
       "                  NO2             CO             O3           TEMP  \\\n",
       "count   420768.000000  420768.000000  420768.000000  420768.000000   \n",
       "unique            NaN            NaN            NaN            NaN   \n",
       "top               NaN            NaN            NaN            NaN   \n",
       "freq              NaN            NaN            NaN            NaN   \n",
       "mean        50.418633    1214.493362      56.981874      13.539885   \n",
       "min          1.026500     100.000000       0.214200     -19.900000   \n",
       "25%         24.000000     500.000000      12.000000       3.100000   \n",
       "50%         43.000000     900.000000      45.000000      14.500000   \n",
       "75%         70.000000    1500.000000      80.000000      23.200000   \n",
       "max        290.000000   10000.000000    1071.000000      41.600000   \n",
       "std         34.642023    1133.542988      55.802413      11.430768   \n",
       "\n",
       "                 PRES           DEWP           RAIN      wd           WSPM  \\\n",
       "count   420768.000000  420768.000000  420768.000000  420768  420768.000000   \n",
       "unique            NaN            NaN            NaN      16            NaN   \n",
       "top               NaN            NaN            NaN      NE            NaN   \n",
       "freq              NaN            NaN            NaN   45157            NaN   \n",
       "mean      1010.746658       2.491405       0.064416     NaN       1.729461   \n",
       "min        982.400000     -43.400000       0.000000     NaN       0.000000   \n",
       "25%       1002.300000      -8.900000       0.000000     NaN       0.900000   \n",
       "50%       1010.400000       3.100000       0.000000     NaN       1.400000   \n",
       "75%       1019.000000      15.100000       0.000000     NaN       2.200000   \n",
       "max       1042.800000      29.100000      72.500000     NaN      13.200000   \n",
       "std         10.469168      13.787252       0.820626     NaN       1.245947   \n",
       "\n",
       "        station                       datetime  \n",
       "count    420768                         420768  \n",
       "unique       12                            NaN  \n",
       "top     Gucheng                            NaN  \n",
       "freq      35064                            NaN  \n",
       "mean        NaN  2015-03-01 11:30:00.000001024  \n",
       "min         NaN            2013-03-01 00:00:00  \n",
       "25%         NaN            2014-03-01 05:45:00  \n",
       "50%         NaN            2015-03-01 11:30:00  \n",
       "75%         NaN            2016-02-29 17:15:00  \n",
       "max         NaN            2017-02-28 23:00:00  \n",
       "std         NaN                            NaN  "
      ]
     },
     "execution_count": 12,
     "metadata": {},
     "output_type": "execute_result"
    }
   ],
   "source": [
    "dataset.describe(include=\"all\")"
   ]
  },
  {
   "cell_type": "code",
   "execution_count": 13,
   "metadata": {},
   "outputs": [
    {
     "data": {
      "text/html": [
       "<div>\n",
       "<style scoped>\n",
       "    .dataframe tbody tr th:only-of-type {\n",
       "        vertical-align: middle;\n",
       "    }\n",
       "\n",
       "    .dataframe tbody tr th {\n",
       "        vertical-align: top;\n",
       "    }\n",
       "\n",
       "    .dataframe thead th {\n",
       "        text-align: right;\n",
       "    }\n",
       "</style>\n",
       "<table border=\"1\" class=\"dataframe\">\n",
       "  <thead>\n",
       "    <tr style=\"text-align: right;\">\n",
       "      <th></th>\n",
       "      <th>No</th>\n",
       "      <th>PM2.5</th>\n",
       "      <th>PM10</th>\n",
       "      <th>SO2</th>\n",
       "      <th>NO2</th>\n",
       "      <th>CO</th>\n",
       "      <th>O3</th>\n",
       "      <th>TEMP</th>\n",
       "      <th>PRES</th>\n",
       "      <th>DEWP</th>\n",
       "      <th>RAIN</th>\n",
       "      <th>WSPM</th>\n",
       "    </tr>\n",
       "  </thead>\n",
       "  <tbody>\n",
       "    <tr>\n",
       "      <th>No</th>\n",
       "      <td>1.000000</td>\n",
       "      <td>-0.023707</td>\n",
       "      <td>-0.044208</td>\n",
       "      <td>-0.223036</td>\n",
       "      <td>-0.044587</td>\n",
       "      <td>0.029085</td>\n",
       "      <td>-0.048520</td>\n",
       "      <td>-0.122268</td>\n",
       "      <td>0.188140</td>\n",
       "      <td>-0.101874</td>\n",
       "      <td>0.004814</td>\n",
       "      <td>0.054066</td>\n",
       "    </tr>\n",
       "    <tr>\n",
       "      <th>PM2.5</th>\n",
       "      <td>-0.023707</td>\n",
       "      <td>1.000000</td>\n",
       "      <td>0.879347</td>\n",
       "      <td>0.478022</td>\n",
       "      <td>0.658526</td>\n",
       "      <td>0.767240</td>\n",
       "      <td>-0.147683</td>\n",
       "      <td>-0.130825</td>\n",
       "      <td>0.019235</td>\n",
       "      <td>0.112726</td>\n",
       "      <td>-0.014315</td>\n",
       "      <td>-0.269476</td>\n",
       "    </tr>\n",
       "    <tr>\n",
       "      <th>PM10</th>\n",
       "      <td>-0.044208</td>\n",
       "      <td>0.879347</td>\n",
       "      <td>1.000000</td>\n",
       "      <td>0.458764</td>\n",
       "      <td>0.645862</td>\n",
       "      <td>0.686253</td>\n",
       "      <td>-0.109919</td>\n",
       "      <td>-0.095674</td>\n",
       "      <td>-0.017542</td>\n",
       "      <td>0.069735</td>\n",
       "      <td>-0.026355</td>\n",
       "      <td>-0.182290</td>\n",
       "    </tr>\n",
       "    <tr>\n",
       "      <th>SO2</th>\n",
       "      <td>-0.223036</td>\n",
       "      <td>0.478022</td>\n",
       "      <td>0.458764</td>\n",
       "      <td>1.000000</td>\n",
       "      <td>0.491557</td>\n",
       "      <td>0.523455</td>\n",
       "      <td>-0.161700</td>\n",
       "      <td>-0.318509</td>\n",
       "      <td>0.220741</td>\n",
       "      <td>-0.264385</td>\n",
       "      <td>-0.039852</td>\n",
       "      <td>-0.107337</td>\n",
       "    </tr>\n",
       "    <tr>\n",
       "      <th>NO2</th>\n",
       "      <td>-0.044587</td>\n",
       "      <td>0.658526</td>\n",
       "      <td>0.645862</td>\n",
       "      <td>0.491557</td>\n",
       "      <td>1.000000</td>\n",
       "      <td>0.687864</td>\n",
       "      <td>-0.463401</td>\n",
       "      <td>-0.273557</td>\n",
       "      <td>0.171171</td>\n",
       "      <td>-0.030747</td>\n",
       "      <td>-0.043241</td>\n",
       "      <td>-0.393955</td>\n",
       "    </tr>\n",
       "    <tr>\n",
       "      <th>CO</th>\n",
       "      <td>0.029085</td>\n",
       "      <td>0.767240</td>\n",
       "      <td>0.686253</td>\n",
       "      <td>0.523455</td>\n",
       "      <td>0.687864</td>\n",
       "      <td>1.000000</td>\n",
       "      <td>-0.303764</td>\n",
       "      <td>-0.318067</td>\n",
       "      <td>0.184148</td>\n",
       "      <td>-0.056701</td>\n",
       "      <td>-0.012842</td>\n",
       "      <td>-0.288682</td>\n",
       "    </tr>\n",
       "    <tr>\n",
       "      <th>O3</th>\n",
       "      <td>-0.048520</td>\n",
       "      <td>-0.147683</td>\n",
       "      <td>-0.109919</td>\n",
       "      <td>-0.161700</td>\n",
       "      <td>-0.463401</td>\n",
       "      <td>-0.303764</td>\n",
       "      <td>1.000000</td>\n",
       "      <td>0.585811</td>\n",
       "      <td>-0.439053</td>\n",
       "      <td>0.307427</td>\n",
       "      <td>0.023322</td>\n",
       "      <td>0.292592</td>\n",
       "    </tr>\n",
       "    <tr>\n",
       "      <th>TEMP</th>\n",
       "      <td>-0.122268</td>\n",
       "      <td>-0.130825</td>\n",
       "      <td>-0.095674</td>\n",
       "      <td>-0.318509</td>\n",
       "      <td>-0.273557</td>\n",
       "      <td>-0.318067</td>\n",
       "      <td>0.585811</td>\n",
       "      <td>1.000000</td>\n",
       "      <td>-0.813297</td>\n",
       "      <td>0.820115</td>\n",
       "      <td>0.037629</td>\n",
       "      <td>0.033025</td>\n",
       "    </tr>\n",
       "    <tr>\n",
       "      <th>PRES</th>\n",
       "      <td>0.188140</td>\n",
       "      <td>0.019235</td>\n",
       "      <td>-0.017542</td>\n",
       "      <td>0.220741</td>\n",
       "      <td>0.171171</td>\n",
       "      <td>0.184148</td>\n",
       "      <td>-0.439053</td>\n",
       "      <td>-0.813297</td>\n",
       "      <td>1.000000</td>\n",
       "      <td>-0.750212</td>\n",
       "      <td>-0.060945</td>\n",
       "      <td>0.065085</td>\n",
       "    </tr>\n",
       "    <tr>\n",
       "      <th>DEWP</th>\n",
       "      <td>-0.101874</td>\n",
       "      <td>0.112726</td>\n",
       "      <td>0.069735</td>\n",
       "      <td>-0.264385</td>\n",
       "      <td>-0.030747</td>\n",
       "      <td>-0.056701</td>\n",
       "      <td>0.307427</td>\n",
       "      <td>0.820115</td>\n",
       "      <td>-0.750212</td>\n",
       "      <td>1.000000</td>\n",
       "      <td>0.086288</td>\n",
       "      <td>-0.296516</td>\n",
       "    </tr>\n",
       "    <tr>\n",
       "      <th>RAIN</th>\n",
       "      <td>0.004814</td>\n",
       "      <td>-0.014315</td>\n",
       "      <td>-0.026355</td>\n",
       "      <td>-0.039852</td>\n",
       "      <td>-0.043241</td>\n",
       "      <td>-0.012842</td>\n",
       "      <td>0.023322</td>\n",
       "      <td>0.037629</td>\n",
       "      <td>-0.060945</td>\n",
       "      <td>0.086288</td>\n",
       "      <td>1.000000</td>\n",
       "      <td>0.021022</td>\n",
       "    </tr>\n",
       "    <tr>\n",
       "      <th>WSPM</th>\n",
       "      <td>0.054066</td>\n",
       "      <td>-0.269476</td>\n",
       "      <td>-0.182290</td>\n",
       "      <td>-0.107337</td>\n",
       "      <td>-0.393955</td>\n",
       "      <td>-0.288682</td>\n",
       "      <td>0.292592</td>\n",
       "      <td>0.033025</td>\n",
       "      <td>0.065085</td>\n",
       "      <td>-0.296516</td>\n",
       "      <td>0.021022</td>\n",
       "      <td>1.000000</td>\n",
       "    </tr>\n",
       "  </tbody>\n",
       "</table>\n",
       "</div>"
      ],
      "text/plain": [
       "             No     PM2.5      PM10       SO2       NO2        CO        O3  \\\n",
       "No     1.000000 -0.023707 -0.044208 -0.223036 -0.044587  0.029085 -0.048520   \n",
       "PM2.5 -0.023707  1.000000  0.879347  0.478022  0.658526  0.767240 -0.147683   \n",
       "PM10  -0.044208  0.879347  1.000000  0.458764  0.645862  0.686253 -0.109919   \n",
       "SO2   -0.223036  0.478022  0.458764  1.000000  0.491557  0.523455 -0.161700   \n",
       "NO2   -0.044587  0.658526  0.645862  0.491557  1.000000  0.687864 -0.463401   \n",
       "CO     0.029085  0.767240  0.686253  0.523455  0.687864  1.000000 -0.303764   \n",
       "O3    -0.048520 -0.147683 -0.109919 -0.161700 -0.463401 -0.303764  1.000000   \n",
       "TEMP  -0.122268 -0.130825 -0.095674 -0.318509 -0.273557 -0.318067  0.585811   \n",
       "PRES   0.188140  0.019235 -0.017542  0.220741  0.171171  0.184148 -0.439053   \n",
       "DEWP  -0.101874  0.112726  0.069735 -0.264385 -0.030747 -0.056701  0.307427   \n",
       "RAIN   0.004814 -0.014315 -0.026355 -0.039852 -0.043241 -0.012842  0.023322   \n",
       "WSPM   0.054066 -0.269476 -0.182290 -0.107337 -0.393955 -0.288682  0.292592   \n",
       "\n",
       "           TEMP      PRES      DEWP      RAIN      WSPM  \n",
       "No    -0.122268  0.188140 -0.101874  0.004814  0.054066  \n",
       "PM2.5 -0.130825  0.019235  0.112726 -0.014315 -0.269476  \n",
       "PM10  -0.095674 -0.017542  0.069735 -0.026355 -0.182290  \n",
       "SO2   -0.318509  0.220741 -0.264385 -0.039852 -0.107337  \n",
       "NO2   -0.273557  0.171171 -0.030747 -0.043241 -0.393955  \n",
       "CO    -0.318067  0.184148 -0.056701 -0.012842 -0.288682  \n",
       "O3     0.585811 -0.439053  0.307427  0.023322  0.292592  \n",
       "TEMP   1.000000 -0.813297  0.820115  0.037629  0.033025  \n",
       "PRES  -0.813297  1.000000 -0.750212 -0.060945  0.065085  \n",
       "DEWP   0.820115 -0.750212  1.000000  0.086288 -0.296516  \n",
       "RAIN   0.037629 -0.060945  0.086288  1.000000  0.021022  \n",
       "WSPM   0.033025  0.065085 -0.296516  0.021022  1.000000  "
      ]
     },
     "execution_count": 13,
     "metadata": {},
     "output_type": "execute_result"
    }
   ],
   "source": [
    "dataset.select_dtypes(include=np.number).corr()"
   ]
  },
  {
   "cell_type": "markdown",
   "metadata": {
    "id": "zsyZjqak8DC2"
   },
   "source": [
    "## Visualization & Explanatory Analysis"
   ]
  },
  {
   "cell_type": "markdown",
   "metadata": {
    "id": "HZxOiQ6n8DC2"
   },
   "source": [
    "### Apakah terdapat pola harian tingkat PM2.5 pada setiap stasiun?"
   ]
  },
  {
   "cell_type": "code",
   "execution_count": 14,
   "metadata": {
    "id": "1swJUdAD8DC2"
   },
   "outputs": [],
   "source": [
    "def get_station_date_range(start_date, end_date, station):\n",
    "    temp_df = dataset.loc[(dataset[\"datetime\"] >= start_date) & (dataset[\"datetime\"] <= end_date) & (dataset[\"station\"] == station)].copy()\n",
    "    temp_df[\"hour\"] = temp_df[\"datetime\"].dt.hour\n",
    "    return temp_df\n",
    "\n",
    "def plot_pm25(start_date, end_date):\n",
    "    gucheng_visual_df = get_station_date_range(start_date, end_date, \"Gucheng\")\n",
    "    huairou_visual_df = get_station_date_range(start_date, end_date, \"Huairou\")\n",
    "\n",
    "    visual_df = pd.concat([gucheng_visual_df, huairou_visual_df], ignore_index=True)\n",
    "    \n",
    "    sns.lineplot(data=visual_df, x=\"hour\", y=\"PM2.5\", hue=\"station\")\n",
    "    plt.xlabel(\"Date\")\n",
    "    plt.xticks(rotation=45)\n",
    "    plt.xticks(range(0, 24, 2))\n",
    "    plt.show()"
   ]
  },
  {
   "cell_type": "code",
   "execution_count": 15,
   "metadata": {},
   "outputs": [
    {
     "data": {
      "image/png": "[encoded data removed]",
      "text/plain": [
       "<Figure size 640x480 with 1 Axes>"
      ]
     },
     "metadata": {},
     "output_type": "display_data"
    }
   ],
   "source": [
    "plot_pm25(\"2013-03-01 00:00:00\", \"2013-03-02 00:00:00\")"
   ]
  },
  {
   "cell_type": "code",
   "execution_count": 16,
   "metadata": {},
   "outputs": [
    {
     "data": {
      "image/png": "[encoded data removed]",
      "text/plain": [
       "<Figure size 640x480 with 1 Axes>"
      ]
     },
     "metadata": {},
     "output_type": "display_data"
    }
   ],
   "source": [
    "plot_pm25(\"2013-03-02 00:00:00\", \"2013-03-03 00:00:00\")"
   ]
  },
  {
   "cell_type": "code",
   "execution_count": 17,
   "metadata": {},
   "outputs": [
    {
     "data": {
      "image/png": "[encoded data removed]",
      "text/plain": [
       "<Figure size 640x480 with 1 Axes>"
      ]
     },
     "metadata": {},
     "output_type": "display_data"
    }
   ],
   "source": [
    "plot_pm25(\"2013-03-03 00:00:00\", \"2013-03-04 00:00:00\")"
   ]
  },
  {
   "cell_type": "markdown",
   "metadata": {},
   "source": [
    "Analisis dilakukan dengan **membandingkan hasil pengukuran tingkat PM2.5 pada dua stasiun pengukuran**, Gucheng dan Huairou. Pemilihan kedua\n",
    "stasiun dilakukan secara acak. Dilakukan plotting tingkat PM2.5 setiap jam dalam rentang waktu 24 jam. Plotting dilakukan pada data 3 hari\n",
    "yang berurutan, yaitu tanggal 1 Maret 2013, 2 Maret 2013, dan 3 Maret 2013. Pemilihan tanggal dilakukan secara acak tetapi dipilih hari-hari\n",
    "yang berdekatan untuk mengurangi kemungkinan faktor-faktor eksternal mempengaruhi pola harian tingkat PM2.5, seperti kejadian yang tak terduga\n",
    "ataupun bencana alam.\n",
    "\n",
    "Berdasarkan analisis, **tidak ditemukan pola berulang yang muncul harian pada data**. Dengan tidak adanya pola ini, dapat disimpulkan bahwa\n",
    "tingkat PM2.5 yang muncul disebabkan oleh faktor yang lebih kompleks yang cenderung bersifat acak. Walaupun tidak ada pola harian berulang\n",
    "yang muncul, terdapat dua insight yang dapat diambil.\n",
    "1. **Tingkat PM2.5 antar stasiun cenderung memiliki tren yang sama**. Jika tingkat PM2.5 sedang mengalami kenaikan pada satu waktu untuk satu stasiun,\n",
    "   tingkat PM2.5 pada stasiun lain juga akan cenderung mengalami kenaikan. Hal ini menunjukkan bahwa perubahan tingkat PM2.5 terjadi dalam cakupan\n",
    "   geografis yang luas.\n",
    "\n",
    "2. **Tingkat PM2.5 memiliki tren yang menaik dari waktu ke waktu**. Tren kenaikan ini terjadi pada seluruh stasiun pengukuran yang ada. Hal ini\n",
    "   menunjukkan bahwa kualitas udara dari waktu ke waktu semakin buruk sehingga diperlukan upaya untuk menghentikan kenaikan tingkat PM2.5 ini.\n",
    "   Upaya yang dibutuhkan harus mencakup lokasi geografis yang luas karena kenaikan tingkat PM2.5 terjadi pada seluruh stasiun pengukuran."
   ]
  },
  {
   "cell_type": "markdown",
   "metadata": {},
   "source": [
    "### Apa polutan dengan tingkat variasi tertinggi pada stasiun dengan tingkat PM2.5 tertinggi?"
   ]
  },
  {
   "cell_type": "code",
   "execution_count": 18,
   "metadata": {},
   "outputs": [
    {
     "name": "stdout",
     "output_type": "stream",
     "text": [
      "Station with the highest PM2.5: Dongsi\n"
     ]
    }
   ],
   "source": [
    "highest = dataset.groupby(by=\"station\")[\"PM2.5\"].mean().idxmax()\n",
    "print(f\"Station with the highest PM2.5: {highest}\")"
   ]
  },
  {
   "cell_type": "code",
   "execution_count": 37,
   "metadata": {},
   "outputs": [
    {
     "data": {
      "image/png": "[encoded data removed]",
      "text/plain": [
       "<Figure size 640x480 with 1 Axes>"
      ]
     },
     "metadata": {},
     "output_type": "display_data"
    }
   ],
   "source": [
    "median_pm25 = dataset.groupby('station')['PM2.5'].median().sort_values(ascending=False).reset_index()\n",
    "\n",
    "sns.barplot(data=median_pm25, x='station', y='PM2.5')\n",
    "plt.xlabel('Station')\n",
    "plt.ylabel('Median PM2.5')\n",
    "plt.xticks(rotation=45)\n",
    "plt.show()"
   ]
  },
  {
   "cell_type": "markdown",
   "metadata": {},
   "source": [
    "Nilai median tingkat PM2.5 digunakan untuk menentukan stasiun dengan kualitas udara terburuk. Nilai median dipilih daripada nilai \n",
    "mean karena terdapat banyak outlier dan distribusi data yang sangat tidak simetris. Berdasarkan barplot, **stasiun dengan median \n",
    "tingkat PM2.5 tertinggi adalah Dongsi**. Stasiun ini kemudian dipilih untuk membandingkan tingkat variasi dari masing-masing polutan \n",
    "untuk menemukan polutan dengan tingkat variasi tertinggi."
   ]
  },
  {
   "cell_type": "code",
   "execution_count": 38,
   "metadata": {},
   "outputs": [
    {
     "data": {
      "image/png": "[encoded data removed]",
      "text/plain": [
       "<Figure size 640x480 with 1 Axes>"
      ]
     },
     "metadata": {},
     "output_type": "display_data"
    }
   ],
   "source": [
    "polutants = [\"SO2\", \"NO2\", \"CO\", \"O3\"]\n",
    "station_df = dataset[dataset['station'] == 'Dongsi'].drop(columns='station')[polutants]\n",
    "variances = station_df.var().sort_values(ascending=False)\n",
    "\n",
    "sns.boxplot(data=station_df[variances.index], showfliers=False)\n",
    "plt.xlabel('Polutants')\n",
    "plt.ylabel('Values')\n",
    "plt.show()"
   ]
  },
  {
   "cell_type": "code",
   "execution_count": 43,
   "metadata": {},
   "outputs": [
    {
     "name": "stdout",
     "output_type": "stream",
     "text": [
      "Variance of CO: 1419209.7174011248\n",
      "Variance of O3: 3367.860973703363\n",
      "Difference: 1415841.8564274213\n"
     ]
    }
   ],
   "source": [
    "print(f\"Variance of CO: {variances['CO']}\")\n",
    "print(f\"Variance of O3: {variances['O3']}\")\n",
    "print(f\"Difference: {variances['CO'] - variances['O3']}\")"
   ]
  },
  {
   "cell_type": "markdown",
   "metadata": {},
   "source": [
    "Analisis dilakukan dengan membandingkan nilai variansi pada setiap polutan. **Kolom-kolom yang diidentifikasi sebagai polutan adalah\n",
    "\"CO\", \"O3\", \"NO2\", dan \"SO2\"**. \"PM2.5\" dan \"PM10\" tidak diidentifikasi sebagai polutan karena merupakan tingkat partikel pada udara dan\n",
    "tidak merujuk ke satu zat spesifik. Berdasarkan analisis, **ditemukan bahwa polutan \"CO\" memiliki tingkat variasi tertinggi**. Nilai\n",
    "variansi \"CO\" mencapai 1.419.209,717. Nilai ini lebih tinggi 1.415.841,856 daripada nilai variansi \"O3\" yang merupakan kedua tertinggi.       \n",
    "\n",
    "Plotting dilakukan untu melihat perbedaan tingkat variasi lebih lanjut. Boxplot dipilih untuk visualisasi karena menampilkan nilai\n",
    "Q1 dan Q3 yang berkaitan dengan tingkat variasi data. Berdasarkan plot, ditemukan bahwa **tingkat variasi \"CO\" jauh lebih tinggi \n",
    "dibanding polutan lainnya**. Tingkat variasi \"O3\", \"NO2\", dan \"SO2\" mirip dan jauh lebih rendah daripada tingkat variasi \"CO\". Hal ini\n",
    "menunjukkan bahwa upaya peningkatan kualitas dengan mengurangi polutan yang fluktuatif dapat difokuskan pada polutan jenis \"CO\"."
   ]
  },
  {
   "cell_type": "markdown",
   "metadata": {
    "id": "_WeHlCeX8DC2"
   },
   "source": [
    "## Conclusion"
   ]
  },
  {
   "cell_type": "markdown",
   "metadata": {
    "id": "ZTcyR48Y8DC2"
   },
   "source": [
    "Terdapat dua kesimpulan yang dapat diambil dari analisis yang telah dilakukan.\n",
    "1. Tren perubahan tingkat PM2.5 serupa untuk setiap stasiun dan menunjukkan tren yang menaik. Hal ini menunjukkan bahwa dibutuhkan\n",
    "   solusi masif dengan skala geografis yang luas untuk menghentikan kenaikan tingkat PM2.5. Solusi ini dibutuhkan segera karena\n",
    "   tingkat PM2.5 yang kerap naik dari waktu ke waktu.\n",
    "   \n",
    "2. Stasiun dengan tingkat PM2.5 tertinggi (yang menunjukkan kualitas udara terburuk) adalah Dongsi. Polutan yang berpengaruh pada\n",
    "   kualitas udara adalah \"CO\", \"O3\", \"NO2\", dan \"SO2\". Dari keempat polutan tersebut, \"CO\" merupakan polutan dengan tingkat variasi\n",
    "   tertinggi. Hal ini menunjukkan bahwa upaya peningkatan kualitas udara dapat dilakukan dengan menurunkan tingkat \"CO\". Dengan\n",
    "   menurunnya tingkat \"CO\", tingkat polutan yang fluktuatif juga akan berkurang sehingga kualitas udara dapat lebih terkontrol dan\n",
    "   mungkin kedepannya dapat diprediksi sehingga upaya preventif jangka panjang dapat dilakukan."
   ]
  }
 ],
 "metadata": {
  "colab": {
   "provenance": []
  },
  "kernelspec": {
   "display_name": "Python 3 (ipykernel)",
   "language": "python",
   "name": "python3"
  },
  "language_info": {
   "codemirror_mode": {
    "name": "ipython",
    "version": 3
   },
   "file_extension": ".py",
   "mimetype": "text/x-python",
   "name": "python",
   "nbconvert_exporter": "python",
   "pygments_lexer": "ipython3",
   "version": "3.10.13"
  },
  "vscode": {
   "interpreter": {
    "hash": "972b3bf27e332e87b5379f2791f6ef9dfc79c71018c370b0d7423235e20fe4d7"
   }
  }
 },
 "nbformat": 4,
 "nbformat_minor": 4
}
