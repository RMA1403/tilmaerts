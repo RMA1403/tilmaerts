











import os

import pandas as pd
import matplotlib.pyplot as plt
import seaborn as sns
import numpy as np


DATA_FOLDER = "PRSA_Data_20130301-20170228"











files = os.listdir(DATA_FOLDER)
dataset = pd.read_csv(os.path.join(DATA_FOLDER, files[0]))
for file in files[1:]:
    temp_df = pd.read_csv(os.path.join(DATA_FOLDER, file))
    dataset = pd.concat([dataset, temp_df], ignore_index=True)





dataset.head()





dataset.shape





dataset["datetime"] = pd.to_datetime(dataset[["year", "month", "day", "hour"]])
dataset.drop(["year", "month", "day", "hour"], axis=1, inplace=True)


dataset.head()








dataset.isnull().sum()





dataset.duplicated().sum()





for column in dataset.select_dtypes(include=np.number):
    sample = dataset[column].dropna()
    
    q25, q75 = np.percentile(sample, 25), np.percentile(sample,75)
    iqr = q75 - q25
    cut_off = iqr * 1.5
    minimum, maximum = q25 - cut_off, q75 + cut_off

    outliers = [x for x in sample if x > maximum or x < minimum]
    print(f"{column}: {len(outliers)} outliers of {len(sample)} samples ({(len(outliers)/len(sample)*100):.2f}%)")








for column in dataset.select_dtypes(include=np.number):
    dataset[column] = dataset[column].fillna(value=dataset[column].median())

for column in dataset.select_dtypes(exclude=np.number):
    dataset[column] = dataset[column].fillna(value=dataset[column].mode()[0])

dataset.isnull().sum()





dataset.describe(include="all")


dataset.select_dtypes(include=np.number).corr()








def get_station_date_range(start_date, end_date, station):
    temp_df = dataset.loc[(dataset["datetime"] >= start_date) & (dataset["datetime"] <= end_date) & (dataset["station"] == station)].copy()
    temp_df["hour"] = temp_df["datetime"].dt.hour
    return temp_df

def plot_pm10(start_date, end_date):
    gucheng_visual_df = get_station_date_range(start_date, end_date, "Gucheng")
    huairou_visual_df = get_station_date_range(start_date, end_date, "Huairou")

    visual_df = pd.concat([gucheng_visual_df, huairou_visual_df], ignore_index=True)
    
    sns.lineplot(data=visual_df, x="hour", y="PM2.5", hue="station")
    plt.xlabel("Date")
    plt.xticks(rotation=45)
    plt.xticks(range(0, 24, 2))
    plt.show()


plot_pm10("2013-03-01 00:00:00", "2013-03-02 00:00:00")


plot_pm10("2013-03-02 00:00:00", "2013-03-03 00:00:00")


plot_pm10("2013-03-03 00:00:00", "2013-03-04 00:00:00")








highest = dataset.groupby(by="station")["PM2.5"].mean().idxmax()
lowest = dataset.groupby(by="station")["PM2.5"].mean().idxmin()

print(f"Station with the worst air quality: {highest}")
print(f"Station with the best air quality: {lowest}")


test_df = dataset[(dataset["station"] == highest) | (dataset["station"] == lowest)]

g = sns.FacetGrid(test_df, col="station", height=4, aspect=1)
g.map(sns.histplot, "PM2.5", bins=20, kde=True)

plt.tight_layout()
plt.show()


new_df = pd.DataFrame({
    "highest": test_df.loc[test_df["station"] == highest, "PM2.5"],
    "lowest": test_df.loc[test_df["station"] == lowest, "PM2.5"]
})

sns.boxplot(data=new_df[["highest", "lowest"]], palette="rocket")
plt.show()


new_df = pd.DataFrame({
    "highest": test_df.loc[test_df["station"] == highest, "PM2.5"],
    "lowest": test_df.loc[test_df["station"] == lowest, "PM2.5"]
})

sns.violinplot(data=new_df[["highest", "lowest"]])
plt.show()









